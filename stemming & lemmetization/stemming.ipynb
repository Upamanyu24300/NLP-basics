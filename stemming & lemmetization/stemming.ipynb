{
 "cells": [
  {
   "cell_type": "markdown",
   "id": "21024019-6d16-4e15-8f9d-4dc20abe01b9",
   "metadata": {},
   "source": [
    "## Stemming"
   ]
  },
  {
   "cell_type": "code",
   "execution_count": 1,
   "id": "39b1f9f4-a277-41fd-ad2a-fd146a0076f4",
   "metadata": {},
   "outputs": [],
   "source": [
    "words=[\"eating\", \"eats\", \"eaten\", \"writing\", \"writes\", \"programming\", \"programs\", \"history\", \"finally\", \"finalized\"]"
   ]
  },
  {
   "cell_type": "markdown",
   "id": "5767b330-f8bc-4dfa-9ac0-c9adc81782c1",
   "metadata": {},
   "source": [
    "### PorterStemmer"
   ]
  },
  {
   "cell_type": "code",
   "execution_count": 2,
   "id": "1f24a84e-cab2-4abf-8e3c-3ad2265f5919",
   "metadata": {},
   "outputs": [],
   "source": [
    "from nltk.stem import PorterStemmer"
   ]
  },
  {
   "cell_type": "code",
   "execution_count": 3,
   "id": "fe21e4dc-4c94-4c31-b55b-237ea34f043a",
   "metadata": {},
   "outputs": [],
   "source": [
    "stemming = PorterStemmer()"
   ]
  },
  {
   "cell_type": "code",
   "execution_count": 4,
   "id": "458e0e29-fcd8-4b42-9a3e-078f565b9327",
   "metadata": {},
   "outputs": [
    {
     "name": "stdout",
     "output_type": "stream",
     "text": [
      "eating---->eat\n",
      "eats---->eat\n",
      "eaten---->eaten\n",
      "writing---->write\n",
      "writes---->write\n",
      "programming---->program\n",
      "programs---->program\n",
      "history---->histori\n",
      "finally---->final\n",
      "finalized---->final\n"
     ]
    }
   ],
   "source": [
    "for word in words:\n",
    "    print(word+\"---->\"+stemming.stem(word))"
   ]
  },
  {
   "cell_type": "code",
   "execution_count": 5,
   "id": "16f3c445-f6f6-4f12-a5c2-3fc1e0be113c",
   "metadata": {},
   "outputs": [
    {
     "data": {
      "text/plain": [
       "'congratul'"
      ]
     },
     "execution_count": 5,
     "metadata": {},
     "output_type": "execute_result"
    }
   ],
   "source": [
    "stemming.stem(\"congratulations\")"
   ]
  },
  {
   "cell_type": "code",
   "execution_count": 6,
   "id": "ef3c6e0e-84c2-4b9b-8bc0-05b6a13f056c",
   "metadata": {},
   "outputs": [
    {
     "data": {
      "text/plain": [
       "'sit'"
      ]
     },
     "execution_count": 6,
     "metadata": {},
     "output_type": "execute_result"
    }
   ],
   "source": [
    "stemming.stem(\"sitting\")"
   ]
  },
  {
   "cell_type": "markdown",
   "id": "f8991cee-a855-4e1a-9a78-c4a08541b8b8",
   "metadata": {},
   "source": [
    "### RegexpStemmer Class"
   ]
  },
  {
   "cell_type": "code",
   "execution_count": 7,
   "id": "bec37984-565d-4f2c-bb16-84e38ed3a117",
   "metadata": {},
   "outputs": [],
   "source": [
    "from nltk.stem import RegexpStemmer "
   ]
  },
  {
   "cell_type": "code",
   "execution_count": 9,
   "id": "1b8dcfbf-2aed-40c2-b70c-a40579552905",
   "metadata": {},
   "outputs": [],
   "source": [
    "reg_stemmer = RegexpStemmer('ing$|s$|e$|able$', min=4)"
   ]
  },
  {
   "cell_type": "code",
   "execution_count": 10,
   "id": "4f2d04f7-19fe-4417-b601-812ee1997c66",
   "metadata": {},
   "outputs": [
    {
     "data": {
      "text/plain": [
       "'eat'"
      ]
     },
     "execution_count": 10,
     "metadata": {},
     "output_type": "execute_result"
    }
   ],
   "source": [
    "reg_stemmer.stem('eating')"
   ]
  },
  {
   "cell_type": "code",
   "execution_count": 12,
   "id": "594565a0-dd40-4412-b305-809c4925f730",
   "metadata": {},
   "outputs": [
    {
     "data": {
      "text/plain": [
       "'ingeat'"
      ]
     },
     "execution_count": 12,
     "metadata": {},
     "output_type": "execute_result"
    }
   ],
   "source": [
    "reg_stemmer.stem('ingeating')"
   ]
  },
  {
   "cell_type": "markdown",
   "id": "7aa58084-7173-43c0-ae1e-fc885f18a00d",
   "metadata": {},
   "source": [
    "### Snowball stemmer"
   ]
  },
  {
   "cell_type": "code",
   "execution_count": 13,
   "id": "6c755d0b-ede7-4165-a332-f15dfd3ef5fd",
   "metadata": {},
   "outputs": [],
   "source": [
    "from nltk.stem import SnowballStemmer"
   ]
  },
  {
   "cell_type": "code",
   "execution_count": 14,
   "id": "8bb2278f-fa5f-4a76-b615-2d91e34b15e7",
   "metadata": {},
   "outputs": [],
   "source": [
    "snowballstemmer = SnowballStemmer('english')"
   ]
  },
  {
   "cell_type": "code",
   "execution_count": 15,
   "id": "b701633a-645e-4bfa-a30d-c51262ea57b4",
   "metadata": {},
   "outputs": [
    {
     "name": "stdout",
     "output_type": "stream",
     "text": [
      "eating---->eat\n",
      "eats---->eat\n",
      "eaten---->eaten\n",
      "writing---->write\n",
      "writes---->write\n",
      "programming---->program\n",
      "programs---->program\n",
      "history---->histori\n",
      "finally---->final\n",
      "finalized---->final\n"
     ]
    }
   ],
   "source": [
    "for word in words:\n",
    "    print(word+\"---->\"+snowballstemmer.stem(word))"
   ]
  },
  {
   "cell_type": "markdown",
   "id": "439165cd-feee-4f98-a76d-162b34a5f440",
   "metadata": {},
   "source": [
    "#### Comparison between Potter and snowball"
   ]
  },
  {
   "cell_type": "code",
   "execution_count": 16,
   "id": "3d711932-6a52-472c-9de3-9f7511c60273",
   "metadata": {},
   "outputs": [
    {
     "data": {
      "text/plain": [
       "('fairli', 'sportingli')"
      ]
     },
     "execution_count": 16,
     "metadata": {},
     "output_type": "execute_result"
    }
   ],
   "source": [
    "stemming.stem(\"fairly\"), stemming.stem(\"sportingly\")"
   ]
  },
  {
   "cell_type": "code",
   "execution_count": 17,
   "id": "7d380aab-7408-4fcd-9f61-5c18a7e0345d",
   "metadata": {},
   "outputs": [
    {
     "data": {
      "text/plain": [
       "('fair', 'sport')"
      ]
     },
     "execution_count": 17,
     "metadata": {},
     "output_type": "execute_result"
    }
   ],
   "source": [
    "snowballstemmer.stem(\"fairly\"), snowballstemmer.stem(\"sportingly\")"
   ]
  },
  {
   "cell_type": "code",
   "execution_count": 20,
   "id": "e122ea4d-35e6-424c-9bb1-379155e33263",
   "metadata": {},
   "outputs": [
    {
     "data": {
      "text/plain": [
       "('goe', 'goe')"
      ]
     },
     "execution_count": 20,
     "metadata": {},
     "output_type": "execute_result"
    }
   ],
   "source": [
    "stemming.stem(\"goes\"), snowballstemmer.stem(\"goes\")"
   ]
  },
  {
   "cell_type": "code",
   "execution_count": null,
   "id": "d569e82b-0db8-4dc4-b188-52a2da563dde",
   "metadata": {},
   "outputs": [],
   "source": []
  }
 ],
 "metadata": {
  "kernelspec": {
   "display_name": "Python (myenv)",
   "language": "python",
   "name": "myenv"
  },
  "language_info": {
   "codemirror_mode": {
    "name": "ipython",
    "version": 3
   },
   "file_extension": ".py",
   "mimetype": "text/x-python",
   "name": "python",
   "nbconvert_exporter": "python",
   "pygments_lexer": "ipython3",
   "version": "3.13.2"
  }
 },
 "nbformat": 4,
 "nbformat_minor": 5
}

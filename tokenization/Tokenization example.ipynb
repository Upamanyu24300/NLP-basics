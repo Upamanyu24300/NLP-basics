{
 "cells": [
  {
   "cell_type": "code",
   "execution_count": 17,
   "id": "c876c6e9-7877-49a4-93d9-d30e7e06d9c0",
   "metadata": {},
   "outputs": [
    {
     "name": "stderr",
     "output_type": "stream",
     "text": [
      "[nltk_data] Downloading package punkt_tab to\n",
      "[nltk_data]     C:\\Users\\upama\\AppData\\Roaming\\nltk_data...\n",
      "[nltk_data]   Unzipping tokenizers\\punkt_tab.zip.\n"
     ]
    },
    {
     "data": {
      "text/plain": [
       "True"
      ]
     },
     "execution_count": 17,
     "metadata": {},
     "output_type": "execute_result"
    }
   ],
   "source": [
    "import nltk\n",
    "nltk.download('punkt_tab')"
   ]
  },
  {
   "cell_type": "code",
   "execution_count": 35,
   "id": "c4e84c2d-ff9e-4810-892f-43f448440677",
   "metadata": {},
   "outputs": [],
   "source": [
    "corpus=\"\"\"Hello, I am Upamanyu Ghosh.\n",
    "I study at IIIT, Naya Raipur.\n",
    "I also have a Youtube channel!\n",
    "My channel name's The Roaming Explorer\n",
    "\"\"\""
   ]
  },
  {
   "cell_type": "code",
   "execution_count": 36,
   "id": "4900a4ea-46b1-48e3-b15f-48cf91cb11ec",
   "metadata": {},
   "outputs": [],
   "source": [
    "from nltk.tokenize import sent_tokenize"
   ]
  },
  {
   "cell_type": "markdown",
   "id": "50a2dae1-7868-414a-8403-ae6f3040afce",
   "metadata": {},
   "source": [
    "## Paragrph into sentences"
   ]
  },
  {
   "cell_type": "code",
   "execution_count": 37,
   "id": "2613760a-1304-480a-9c56-84ff19032b7a",
   "metadata": {},
   "outputs": [
    {
     "data": {
      "text/plain": [
       "['Hello, I am Upamanyu Ghosh.',\n",
       " 'I study at IIIT, Naya Raipur.',\n",
       " 'I also have a Youtube channel!',\n",
       " \"My channel name's The Roaming Explorer\"]"
      ]
     },
     "execution_count": 37,
     "metadata": {},
     "output_type": "execute_result"
    }
   ],
   "source": [
    "sent_tokenize(corpus)"
   ]
  },
  {
   "cell_type": "code",
   "execution_count": 38,
   "id": "b8a28d6c-1480-4527-8437-d088f0a69a97",
   "metadata": {},
   "outputs": [],
   "source": [
    "documents = sent_tokenize(corpus)"
   ]
  },
  {
   "cell_type": "code",
   "execution_count": 39,
   "id": "ff87c7de-ffc4-4002-a5f8-f558d41d0702",
   "metadata": {},
   "outputs": [
    {
     "data": {
      "text/plain": [
       "list"
      ]
     },
     "execution_count": 39,
     "metadata": {},
     "output_type": "execute_result"
    }
   ],
   "source": [
    "type(documents)"
   ]
  },
  {
   "cell_type": "code",
   "execution_count": 40,
   "id": "1bd773e2-6b68-4caf-b5b4-e07b9eaa6a25",
   "metadata": {},
   "outputs": [
    {
     "name": "stdout",
     "output_type": "stream",
     "text": [
      "Hello, I am Upamanyu Ghosh.\n",
      "I study at IIIT, Naya Raipur.\n",
      "I also have a Youtube channel!\n",
      "My channel name's The Roaming Explorer\n"
     ]
    }
   ],
   "source": [
    "for sentence in documents:\n",
    "    print(sentence)"
   ]
  },
  {
   "cell_type": "markdown",
   "id": "bc311cde-2368-4976-b5a3-fe5c787c95cd",
   "metadata": {},
   "source": [
    "## Paragraph(sentences) to words"
   ]
  },
  {
   "cell_type": "code",
   "execution_count": 41,
   "id": "7f54f305-a11d-4873-8294-686010e95540",
   "metadata": {},
   "outputs": [],
   "source": [
    "from nltk.tokenize import word_tokenize"
   ]
  },
  {
   "cell_type": "code",
   "execution_count": 42,
   "id": "1b775be6-748d-40d7-b20a-751871387d07",
   "metadata": {},
   "outputs": [
    {
     "data": {
      "text/plain": [
       "['Hello',\n",
       " ',',\n",
       " 'I',\n",
       " 'am',\n",
       " 'Upamanyu',\n",
       " 'Ghosh',\n",
       " '.',\n",
       " 'I',\n",
       " 'study',\n",
       " 'at',\n",
       " 'IIIT',\n",
       " ',',\n",
       " 'Naya',\n",
       " 'Raipur',\n",
       " '.',\n",
       " 'I',\n",
       " 'also',\n",
       " 'have',\n",
       " 'a',\n",
       " 'Youtube',\n",
       " 'channel',\n",
       " '!',\n",
       " 'My',\n",
       " 'channel',\n",
       " 'name',\n",
       " \"'s\",\n",
       " 'The',\n",
       " 'Roaming',\n",
       " 'Explorer']"
      ]
     },
     "execution_count": 42,
     "metadata": {},
     "output_type": "execute_result"
    }
   ],
   "source": [
    "word_tokenize(corpus)"
   ]
  },
  {
   "cell_type": "code",
   "execution_count": 43,
   "id": "14cf34dc-cd91-4569-beab-3c652dd3c65f",
   "metadata": {},
   "outputs": [
    {
     "name": "stdout",
     "output_type": "stream",
     "text": [
      "['Hello', ',', 'I', 'am', 'Upamanyu', 'Ghosh', '.']\n",
      "['I', 'study', 'at', 'IIIT', ',', 'Naya', 'Raipur', '.']\n",
      "['I', 'also', 'have', 'a', 'Youtube', 'channel', '!']\n",
      "['My', 'channel', 'name', \"'s\", 'The', 'Roaming', 'Explorer']\n"
     ]
    }
   ],
   "source": [
    "for sentence in documents:\n",
    "    print(word_tokenize(sentence))"
   ]
  },
  {
   "cell_type": "code",
   "execution_count": 44,
   "id": "7b4700f3-80c6-4d37-84e2-af8510a2899b",
   "metadata": {},
   "outputs": [],
   "source": [
    "from nltk.tokenize import wordpunct_tokenize"
   ]
  },
  {
   "cell_type": "code",
   "execution_count": 45,
   "id": "a767ce23-1712-48c6-941f-381882c65874",
   "metadata": {},
   "outputs": [
    {
     "data": {
      "text/plain": [
       "['Hello',\n",
       " ',',\n",
       " 'I',\n",
       " 'am',\n",
       " 'Upamanyu',\n",
       " 'Ghosh',\n",
       " '.',\n",
       " 'I',\n",
       " 'study',\n",
       " 'at',\n",
       " 'IIIT',\n",
       " ',',\n",
       " 'Naya',\n",
       " 'Raipur',\n",
       " '.',\n",
       " 'I',\n",
       " 'also',\n",
       " 'have',\n",
       " 'a',\n",
       " 'Youtube',\n",
       " 'channel',\n",
       " '!',\n",
       " 'My',\n",
       " 'channel',\n",
       " 'name',\n",
       " \"'\",\n",
       " 's',\n",
       " 'The',\n",
       " 'Roaming',\n",
       " 'Explorer']"
      ]
     },
     "execution_count": 45,
     "metadata": {},
     "output_type": "execute_result"
    }
   ],
   "source": [
    "wordpunct_tokenize(corpus)"
   ]
  },
  {
   "cell_type": "code",
   "execution_count": 46,
   "id": "49f2de19-6777-493e-9385-2c609cdf0056",
   "metadata": {},
   "outputs": [],
   "source": [
    "from nltk.tokenize import TreebankWordDetokenizer"
   ]
  },
  {
   "cell_type": "code",
   "execution_count": 47,
   "id": "dccbec6d-8b25-41e6-b1b8-25f1555b83c4",
   "metadata": {},
   "outputs": [],
   "source": [
    "tokenizer = TreebankWordDetokenizer()"
   ]
  },
  {
   "cell_type": "code",
   "execution_count": 48,
   "id": "69fd401f-3fe8-41c5-b37e-8777a9f96554",
   "metadata": {},
   "outputs": [
    {
     "data": {
      "text/plain": [
       "\"H e l l o,   I   a m   U p a m a n y u   G h o s h . \\n I   s t u d y   a t   I I I T,   N a y a   R a i p u r . \\n I   a l s o   h a v e   a   Y o u t u b e   c h a n n e l! \\n M y   c h a n n e l   n a m e' s   T h e   R o a m i n g   E x p l o r e r\""
      ]
     },
     "execution_count": 48,
     "metadata": {},
     "output_type": "execute_result"
    }
   ],
   "source": [
    "tokenizer.tokenize(corpus)"
   ]
  },
  {
   "cell_type": "code",
   "execution_count": null,
   "id": "83077658-afce-410f-9ee5-e9ace8fa7ffc",
   "metadata": {},
   "outputs": [],
   "source": []
  }
 ],
 "metadata": {
  "kernelspec": {
   "display_name": "Python (myenv)",
   "language": "python",
   "name": "myenv"
  },
  "language_info": {
   "codemirror_mode": {
    "name": "ipython",
    "version": 3
   },
   "file_extension": ".py",
   "mimetype": "text/x-python",
   "name": "python",
   "nbconvert_exporter": "python",
   "pygments_lexer": "ipython3",
   "version": "3.13.2"
  }
 },
 "nbformat": 4,
 "nbformat_minor": 5
}
